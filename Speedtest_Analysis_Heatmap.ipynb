{
  "cells": [
    {
      "cell_type": "code",
      "execution_count": null,
      "metadata": {
        "id": "KlsIwb9T_e_g"
      },
      "outputs": [],
      "source": [
        "#Começa aqui após ter os arquivos\n",
        "import pandas as pd\n",
        "import geopandas as gpd\n",
        "import folium\n",
        "from shapely.wkt import loads\n",
        "from shapely import wkt\n",
        "from branca.colormap import linear"
      ]
    },
    {
      "cell_type": "code",
      "execution_count": null,
      "metadata": {},
      "outputs": [],
      "source": [
        "#Shapefile baixado em: https://www.ibge.gov.br/geociencias/organizacao-do-territorio/malhas-territoriais/15774-malhas.html\n",
        "'''\n",
        "file_names = [\"2023-Q1.parquet\", \"2023-Q2.parquet\", \"2023-Q3.parquet\", \"2023-Q4.parquet\"]\n",
        "def load_and_process_data(file_names):\n",
        "    dfs = []\n",
        "    for file_name in file_names:\n",
        "        print(f'Carregando dados do arquivo: {file_name}')\n",
        "        df = pd.read_parquet(file_name)\n",
        "        df['geometry'] = df['tile'].apply(wkt.loads)\n",
        "        df['quarter'] = file_name.split('-')[1]  # Assumindo que o nome do arquivo contém o trimestre\n",
        "        dfs.append(df)\n",
        "    \n",
        "    combined_df = pd.concat(dfs, ignore_index=True, axis=0)\n",
        "    return combined_df\n",
        "\n",
        "df = load_and_process_data(file_names)\n",
        "print(df)\n",
        "Ficou muito pesado\n",
        "'''\n",
        "file_name = \"2024-Q01.parquet\"\n",
        "df = pd.read_parquet(file_name)\n",
        "\n",
        "\n",
        "df.rename(columns={'tile': 'geometry'}, inplace=True)\n",
        "\n",
        "df['geometry'] = df['geometry'].apply(wkt.loads)\n",
        "\n",
        "df_geo = gpd.GeoDataFrame(df, geometry='geometry')\n",
        "df_geo.crs = \"EPSG:4326\"\n",
        "\n",
        "df_geo.head()"
      ]
    },
    {
      "cell_type": "code",
      "execution_count": null,
      "metadata": {},
      "outputs": [],
      "source": [
        "#shapefile_sp = gpd.read_file('SP_Municipios_2022.zip') \n",
        "shapefile_sp = gpd.read_file('BR_Municipios_2022.zip') #Tentar rodar com brasil\n",
        "distritos = shapefile_sp.to_crs(4326)\n",
        "distritos.head()\n",
        "\n",
        "#nome_arquivo_excel = \"distritos.xlsx\"\n",
        "#distritos.to_excel(nome_arquivo_excel, index=False)\n",
        "#print(f\"Arquivo '{nome_arquivo_excel}' salvo com sucesso!\")"
      ]
    },
    {
      "cell_type": "code",
      "execution_count": null,
      "metadata": {},
      "outputs": [],
      "source": [
        "# Realiza o join espacial\n",
        "join_sp = gpd.sjoin(df_geo, distritos, how=\"inner\", op='intersects')\n",
        "join_sp.head()\n",
        "# O resultado 'join_sp' conterá as velocidades de internet com a informação dos municípios de São Paulo"
      ]
    },
    {
      "cell_type": "code",
      "execution_count": null,
      "metadata": {},
      "outputs": [],
      "source": [
        "# Supondo que join_sp é o DataFrame com seus dados\n",
        "# Calcular a média de avg_d_kbps por município\n",
        "media_velocidade_sp = join_sp.groupby('NM_MUN')['avg_d_kbps'].mean()\n",
        "\n",
        "# Resetar o índice para transformar em DataFrame\n",
        "media_velocidade_sp = media_velocidade_sp.reset_index()\n",
        "\n",
        "# Converter a média de kbps para Mbps diretamente na nova coluna\n",
        "media_velocidade_sp['avg_d_mbps'] = media_velocidade_sp['avg_d_kbps'] / 1000\n",
        "\n",
        "# Nome do arquivo Excel\n",
        "#nome_arquivo_excel = \"media_velocidade_por_municipio.xlsx\"\n",
        "#media_velocidade_sp.to_excel(nome_arquivo_excel, index=False)"
      ]
    },
    {
      "cell_type": "code",
      "execution_count": null,
      "metadata": {},
      "outputs": [],
      "source": [
        "# Merge para associar cada município à sua média de velocidade de internet\n",
        "map_data = distritos.merge(media_velocidade_sp, left_on='NM_MUN', right_on='NM_MUN')\n",
        "\n",
        "# Exibir dataframe resultante\n",
        "print(map_data)\n",
        "#map_data.to_excel('teste.xlsx')"
      ]
    },
    {
      "cell_type": "code",
      "execution_count": null,
      "metadata": {},
      "outputs": [],
      "source": [
        "gdf = gpd.GeoDataFrame(map_data, geometry='geometry')\n",
        "gdf = gdf.set_geometry('geometry')\n",
        "# Agrupar por estado (SIGLA_UF) e realizar as agregações\n",
        "grouped = gdf.dissolve(by='SIGLA_UF', aggfunc={\n",
        "    'AREA_KM2': 'sum',\n",
        "    'avg_d_kbps': 'mean',\n",
        "    'avg_d_mbps': 'mean'\n",
        "})\n",
        "# Resetar o índice para usar SIGLA_UF como coluna\n",
        "grouped = grouped.reset_index()\n",
        "# Mostrar os dados agregados\n",
        "print(grouped.head())\n",
        "\n",
        "# Opcionalmente, salvar em um novo arquivo\n",
        "#grouped.to_file('dados_agregados_estado.geojson', driver='GeoJSON')\n"
      ]
    },
    {
      "cell_type": "code",
      "execution_count": null,
      "metadata": {},
      "outputs": [],
      "source": [
        "# Criar um mapa base\n",
        "m = folium.Map(location=[-15.788497, -47.879873], zoom_start=4)\n",
        "\n",
        "# Definir a paleta de cores\n",
        "colormap = linear.YlOrRd_09.scale(grouped['avg_d_mbps'].min(), grouped['avg_d_mbps'].max())\n",
        "colormap.caption = 'Velocidade Média de Internet (Mbps)'\n",
        "\n",
        "# Adicionar os polígonos dos estados ao mapa\n",
        "choropleth = folium.Choropleth(\n",
        "    geo_data=grouped,\n",
        "    name='choropleth',\n",
        "    data=grouped,\n",
        "    columns=['SIGLA_UF', 'avg_d_mbps'],\n",
        "    key_on='feature.properties.SIGLA_UF',\n",
        "    fill_color='YlOrRd',\n",
        "    fill_opacity=0.7,\n",
        "    line_opacity=0.2,\n",
        "    legend_name='Velocidade Média de Internet (Mbps)'\n",
        ").add_to(m)\n",
        "\n",
        "# Adicionar popups para cada estado\n",
        "for _, row in grouped.iterrows():\n",
        "    folium.GeoJson(\n",
        "        row['geometry'],\n",
        "        name=row['SIGLA_UF'],\n",
        "        tooltip=folium.Tooltip(f\"{row['SIGLA_UF']}: {row['avg_d_mbps']} Mbps\")\n",
        "    ).add_to(m)\n",
        "\n",
        "# Adicionar controle de camadas\n",
        "folium.LayerControl().add_to(m)\n",
        "\n",
        "# Adicionar a legenda da paleta de cores\n",
        "m.add_child(colormap)\n",
        "\n",
        "# Salvar o mapa em um arquivo HTML\n",
        "m.save('mapa_velocidade_internet.html')\n",
        "\n",
        "# Exibir o mapa\n",
        "m"
      ]
    }
  ],
  "metadata": {
    "colab": {
      "provenance": []
    },
    "kernelspec": {
      "display_name": "Python 3",
      "name": "python3"
    },
    "language_info": {
      "codemirror_mode": {
        "name": "ipython",
        "version": 3
      },
      "file_extension": ".py",
      "mimetype": "text/x-python",
      "name": "python",
      "nbconvert_exporter": "python",
      "pygments_lexer": "ipython3",
      "version": "3.12.2"
    }
  },
  "nbformat": 4,
  "nbformat_minor": 0
}
