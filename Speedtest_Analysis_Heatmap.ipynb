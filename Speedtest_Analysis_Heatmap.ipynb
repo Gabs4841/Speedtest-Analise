{
  "cells": [
    {
      "cell_type": "code",
      "execution_count": 3,
      "metadata": {
        "id": "KlsIwb9T_e_g"
      },
      "outputs": [],
      "source": [
        "#Começa aqui após ter os arquivos\n",
        "import pandas as pd\n",
        "import geopandas as gpd\n",
        "import folium\n",
        "from shapely.wkt import loads\n",
        "from shapely import wkt\n",
        "from branca.colormap import linear"
      ]
    },
    {
      "cell_type": "code",
      "execution_count": 4,
      "metadata": {},
      "outputs": [
        {
          "ename": "FileNotFoundError",
          "evalue": "[Errno 2] No such file or directory: '2021-Q04.parquet'",
          "output_type": "error",
          "traceback": [
            "\u001b[1;31m---------------------------------------------------------------------------\u001b[0m",
            "\u001b[1;31mFileNotFoundError\u001b[0m                         Traceback (most recent call last)",
            "Cell \u001b[1;32mIn[4], line 4\u001b[0m\n\u001b[0;32m      1\u001b[0m \u001b[38;5;66;03m#Shapefile baixado em: https://www.ibge.gov.br/geociencias/organizacao-do-territorio/malhas-territoriais/15774-malhas.html\u001b[39;00m\n\u001b[0;32m      3\u001b[0m file_name \u001b[38;5;241m=\u001b[39m \u001b[38;5;124m\"\u001b[39m\u001b[38;5;124m2021-Q04.parquet\u001b[39m\u001b[38;5;124m\"\u001b[39m\n\u001b[1;32m----> 4\u001b[0m df \u001b[38;5;241m=\u001b[39m \u001b[43mpd\u001b[49m\u001b[38;5;241;43m.\u001b[39;49m\u001b[43mread_parquet\u001b[49m\u001b[43m(\u001b[49m\u001b[43mfile_name\u001b[49m\u001b[43m)\u001b[49m\n\u001b[0;32m      7\u001b[0m df\u001b[38;5;241m.\u001b[39mrename(columns\u001b[38;5;241m=\u001b[39m{\u001b[38;5;124m'\u001b[39m\u001b[38;5;124mtile\u001b[39m\u001b[38;5;124m'\u001b[39m: \u001b[38;5;124m'\u001b[39m\u001b[38;5;124mgeometry\u001b[39m\u001b[38;5;124m'\u001b[39m}, inplace\u001b[38;5;241m=\u001b[39m\u001b[38;5;28;01mTrue\u001b[39;00m)\n\u001b[0;32m      9\u001b[0m df[\u001b[38;5;124m'\u001b[39m\u001b[38;5;124mgeometry\u001b[39m\u001b[38;5;124m'\u001b[39m] \u001b[38;5;241m=\u001b[39m df[\u001b[38;5;124m'\u001b[39m\u001b[38;5;124mgeometry\u001b[39m\u001b[38;5;124m'\u001b[39m]\u001b[38;5;241m.\u001b[39mapply(wkt\u001b[38;5;241m.\u001b[39mloads)\n",
            "File \u001b[1;32mc:\\Users\\Jonatas\\AppData\\Local\\Programs\\Python\\Python312\\Lib\\site-packages\\pandas\\io\\parquet.py:667\u001b[0m, in \u001b[0;36mread_parquet\u001b[1;34m(path, engine, columns, storage_options, use_nullable_dtypes, dtype_backend, filesystem, filters, **kwargs)\u001b[0m\n\u001b[0;32m    664\u001b[0m     use_nullable_dtypes \u001b[38;5;241m=\u001b[39m \u001b[38;5;28;01mFalse\u001b[39;00m\n\u001b[0;32m    665\u001b[0m check_dtype_backend(dtype_backend)\n\u001b[1;32m--> 667\u001b[0m \u001b[38;5;28;01mreturn\u001b[39;00m \u001b[43mimpl\u001b[49m\u001b[38;5;241;43m.\u001b[39;49m\u001b[43mread\u001b[49m\u001b[43m(\u001b[49m\n\u001b[0;32m    668\u001b[0m \u001b[43m    \u001b[49m\u001b[43mpath\u001b[49m\u001b[43m,\u001b[49m\n\u001b[0;32m    669\u001b[0m \u001b[43m    \u001b[49m\u001b[43mcolumns\u001b[49m\u001b[38;5;241;43m=\u001b[39;49m\u001b[43mcolumns\u001b[49m\u001b[43m,\u001b[49m\n\u001b[0;32m    670\u001b[0m \u001b[43m    \u001b[49m\u001b[43mfilters\u001b[49m\u001b[38;5;241;43m=\u001b[39;49m\u001b[43mfilters\u001b[49m\u001b[43m,\u001b[49m\n\u001b[0;32m    671\u001b[0m \u001b[43m    \u001b[49m\u001b[43mstorage_options\u001b[49m\u001b[38;5;241;43m=\u001b[39;49m\u001b[43mstorage_options\u001b[49m\u001b[43m,\u001b[49m\n\u001b[0;32m    672\u001b[0m \u001b[43m    \u001b[49m\u001b[43muse_nullable_dtypes\u001b[49m\u001b[38;5;241;43m=\u001b[39;49m\u001b[43muse_nullable_dtypes\u001b[49m\u001b[43m,\u001b[49m\n\u001b[0;32m    673\u001b[0m \u001b[43m    \u001b[49m\u001b[43mdtype_backend\u001b[49m\u001b[38;5;241;43m=\u001b[39;49m\u001b[43mdtype_backend\u001b[49m\u001b[43m,\u001b[49m\n\u001b[0;32m    674\u001b[0m \u001b[43m    \u001b[49m\u001b[43mfilesystem\u001b[49m\u001b[38;5;241;43m=\u001b[39;49m\u001b[43mfilesystem\u001b[49m\u001b[43m,\u001b[49m\n\u001b[0;32m    675\u001b[0m \u001b[43m    \u001b[49m\u001b[38;5;241;43m*\u001b[39;49m\u001b[38;5;241;43m*\u001b[39;49m\u001b[43mkwargs\u001b[49m\u001b[43m,\u001b[49m\n\u001b[0;32m    676\u001b[0m \u001b[43m\u001b[49m\u001b[43m)\u001b[49m\n",
            "File \u001b[1;32mc:\\Users\\Jonatas\\AppData\\Local\\Programs\\Python\\Python312\\Lib\\site-packages\\pandas\\io\\parquet.py:267\u001b[0m, in \u001b[0;36mPyArrowImpl.read\u001b[1;34m(self, path, columns, filters, use_nullable_dtypes, dtype_backend, storage_options, filesystem, **kwargs)\u001b[0m\n\u001b[0;32m    264\u001b[0m \u001b[38;5;28;01mif\u001b[39;00m manager \u001b[38;5;241m==\u001b[39m \u001b[38;5;124m\"\u001b[39m\u001b[38;5;124marray\u001b[39m\u001b[38;5;124m\"\u001b[39m:\n\u001b[0;32m    265\u001b[0m     to_pandas_kwargs[\u001b[38;5;124m\"\u001b[39m\u001b[38;5;124msplit_blocks\u001b[39m\u001b[38;5;124m\"\u001b[39m] \u001b[38;5;241m=\u001b[39m \u001b[38;5;28;01mTrue\u001b[39;00m  \u001b[38;5;66;03m# type: ignore[assignment]\u001b[39;00m\n\u001b[1;32m--> 267\u001b[0m path_or_handle, handles, filesystem \u001b[38;5;241m=\u001b[39m \u001b[43m_get_path_or_handle\u001b[49m\u001b[43m(\u001b[49m\n\u001b[0;32m    268\u001b[0m \u001b[43m    \u001b[49m\u001b[43mpath\u001b[49m\u001b[43m,\u001b[49m\n\u001b[0;32m    269\u001b[0m \u001b[43m    \u001b[49m\u001b[43mfilesystem\u001b[49m\u001b[43m,\u001b[49m\n\u001b[0;32m    270\u001b[0m \u001b[43m    \u001b[49m\u001b[43mstorage_options\u001b[49m\u001b[38;5;241;43m=\u001b[39;49m\u001b[43mstorage_options\u001b[49m\u001b[43m,\u001b[49m\n\u001b[0;32m    271\u001b[0m \u001b[43m    \u001b[49m\u001b[43mmode\u001b[49m\u001b[38;5;241;43m=\u001b[39;49m\u001b[38;5;124;43m\"\u001b[39;49m\u001b[38;5;124;43mrb\u001b[39;49m\u001b[38;5;124;43m\"\u001b[39;49m\u001b[43m,\u001b[49m\n\u001b[0;32m    272\u001b[0m \u001b[43m\u001b[49m\u001b[43m)\u001b[49m\n\u001b[0;32m    273\u001b[0m \u001b[38;5;28;01mtry\u001b[39;00m:\n\u001b[0;32m    274\u001b[0m     pa_table \u001b[38;5;241m=\u001b[39m \u001b[38;5;28mself\u001b[39m\u001b[38;5;241m.\u001b[39mapi\u001b[38;5;241m.\u001b[39mparquet\u001b[38;5;241m.\u001b[39mread_table(\n\u001b[0;32m    275\u001b[0m         path_or_handle,\n\u001b[0;32m    276\u001b[0m         columns\u001b[38;5;241m=\u001b[39mcolumns,\n\u001b[1;32m   (...)\u001b[0m\n\u001b[0;32m    279\u001b[0m         \u001b[38;5;241m*\u001b[39m\u001b[38;5;241m*\u001b[39mkwargs,\n\u001b[0;32m    280\u001b[0m     )\n",
            "File \u001b[1;32mc:\\Users\\Jonatas\\AppData\\Local\\Programs\\Python\\Python312\\Lib\\site-packages\\pandas\\io\\parquet.py:140\u001b[0m, in \u001b[0;36m_get_path_or_handle\u001b[1;34m(path, fs, storage_options, mode, is_dir)\u001b[0m\n\u001b[0;32m    130\u001b[0m handles \u001b[38;5;241m=\u001b[39m \u001b[38;5;28;01mNone\u001b[39;00m\n\u001b[0;32m    131\u001b[0m \u001b[38;5;28;01mif\u001b[39;00m (\n\u001b[0;32m    132\u001b[0m     \u001b[38;5;129;01mnot\u001b[39;00m fs\n\u001b[0;32m    133\u001b[0m     \u001b[38;5;129;01mand\u001b[39;00m \u001b[38;5;129;01mnot\u001b[39;00m is_dir\n\u001b[1;32m   (...)\u001b[0m\n\u001b[0;32m    138\u001b[0m     \u001b[38;5;66;03m# fsspec resources can also point to directories\u001b[39;00m\n\u001b[0;32m    139\u001b[0m     \u001b[38;5;66;03m# this branch is used for example when reading from non-fsspec URLs\u001b[39;00m\n\u001b[1;32m--> 140\u001b[0m     handles \u001b[38;5;241m=\u001b[39m \u001b[43mget_handle\u001b[49m\u001b[43m(\u001b[49m\n\u001b[0;32m    141\u001b[0m \u001b[43m        \u001b[49m\u001b[43mpath_or_handle\u001b[49m\u001b[43m,\u001b[49m\u001b[43m \u001b[49m\u001b[43mmode\u001b[49m\u001b[43m,\u001b[49m\u001b[43m \u001b[49m\u001b[43mis_text\u001b[49m\u001b[38;5;241;43m=\u001b[39;49m\u001b[38;5;28;43;01mFalse\u001b[39;49;00m\u001b[43m,\u001b[49m\u001b[43m \u001b[49m\u001b[43mstorage_options\u001b[49m\u001b[38;5;241;43m=\u001b[39;49m\u001b[43mstorage_options\u001b[49m\n\u001b[0;32m    142\u001b[0m \u001b[43m    \u001b[49m\u001b[43m)\u001b[49m\n\u001b[0;32m    143\u001b[0m     fs \u001b[38;5;241m=\u001b[39m \u001b[38;5;28;01mNone\u001b[39;00m\n\u001b[0;32m    144\u001b[0m     path_or_handle \u001b[38;5;241m=\u001b[39m handles\u001b[38;5;241m.\u001b[39mhandle\n",
            "File \u001b[1;32mc:\\Users\\Jonatas\\AppData\\Local\\Programs\\Python\\Python312\\Lib\\site-packages\\pandas\\io\\common.py:882\u001b[0m, in \u001b[0;36mget_handle\u001b[1;34m(path_or_buf, mode, encoding, compression, memory_map, is_text, errors, storage_options)\u001b[0m\n\u001b[0;32m    873\u001b[0m         handle \u001b[38;5;241m=\u001b[39m \u001b[38;5;28mopen\u001b[39m(\n\u001b[0;32m    874\u001b[0m             handle,\n\u001b[0;32m    875\u001b[0m             ioargs\u001b[38;5;241m.\u001b[39mmode,\n\u001b[1;32m   (...)\u001b[0m\n\u001b[0;32m    878\u001b[0m             newline\u001b[38;5;241m=\u001b[39m\u001b[38;5;124m\"\u001b[39m\u001b[38;5;124m\"\u001b[39m,\n\u001b[0;32m    879\u001b[0m         )\n\u001b[0;32m    880\u001b[0m     \u001b[38;5;28;01melse\u001b[39;00m:\n\u001b[0;32m    881\u001b[0m         \u001b[38;5;66;03m# Binary mode\u001b[39;00m\n\u001b[1;32m--> 882\u001b[0m         handle \u001b[38;5;241m=\u001b[39m \u001b[38;5;28;43mopen\u001b[39;49m\u001b[43m(\u001b[49m\u001b[43mhandle\u001b[49m\u001b[43m,\u001b[49m\u001b[43m \u001b[49m\u001b[43mioargs\u001b[49m\u001b[38;5;241;43m.\u001b[39;49m\u001b[43mmode\u001b[49m\u001b[43m)\u001b[49m\n\u001b[0;32m    883\u001b[0m     handles\u001b[38;5;241m.\u001b[39mappend(handle)\n\u001b[0;32m    885\u001b[0m \u001b[38;5;66;03m# Convert BytesIO or file objects passed with an encoding\u001b[39;00m\n",
            "\u001b[1;31mFileNotFoundError\u001b[0m: [Errno 2] No such file or directory: '2021-Q04.parquet'"
          ]
        }
      ],
      "source": [
        "#Shapefile baixado em: https://www.ibge.gov.br/geociencias/organizacao-do-territorio/malhas-territoriais/15774-malhas.html\n",
        "\n",
        "file_name = \"2021-Q04.parquet\"\n",
        "df = pd.read_parquet(file_name)\n",
        "\n",
        "\n",
        "df.rename(columns={'tile': 'geometry'}, inplace=True)\n",
        "\n",
        "df['geometry'] = df['geometry'].apply(wkt.loads)\n",
        "\n",
        "df_geo = gpd.GeoDataFrame(df, geometry='geometry')\n",
        "df_geo.crs = \"EPSG:4326\"\n",
        "\n",
        "df_geo.head()"
      ]
    },
    {
      "cell_type": "code",
      "execution_count": null,
      "metadata": {},
      "outputs": [
        {
          "ename": "",
          "evalue": "",
          "output_type": "error",
          "traceback": [
            "\u001b[1;31mRunning cells with 'Python 3.10.6' requires the ipykernel package.\n",
            "\u001b[1;31mRun the following command to install 'ipykernel' into the Python environment. \n",
            "\u001b[1;31mCommand: 'c:/Users/Jonatas/AppData/Local/Programs/Python/Python310/python.exe -m pip install ipykernel -U --user --force-reinstall'"
          ]
        }
      ],
      "source": [
        "shapefile = gpd.read_file('BR_Municipios_2022.zip') #Tentar rodar com brasil\n",
        "distritos = shapefile.to_crs(4326)\n",
        "distritos.head()"
      ]
    },
    {
      "cell_type": "code",
      "execution_count": null,
      "metadata": {},
      "outputs": [
        {
          "ename": "",
          "evalue": "",
          "output_type": "error",
          "traceback": [
            "\u001b[1;31mRunning cells with 'Python 3.10.6' requires the ipykernel package.\n",
            "\u001b[1;31mRun the following command to install 'ipykernel' into the Python environment. \n",
            "\u001b[1;31mCommand: 'c:/Users/Jonatas/AppData/Local/Programs/Python/Python310/python.exe -m pip install ipykernel -U --user --force-reinstall'"
          ]
        }
      ],
      "source": [
        "uf_dict = {\n",
        "    'AC': 'Acre', 'AL': 'Alagoas', 'AM': 'Amazonas', 'AP': 'Amapá', 'BA': 'Bahia',\n",
        "    'CE': 'Ceará', 'DF': 'Distrito Federal', 'ES': 'Espírito Santo', 'GO': 'Goiás',\n",
        "    'MA': 'Maranhão', 'MG': 'Minas Gerais', 'MS': 'Mato Grosso do Sul', 'MT': 'Mato Grosso',\n",
        "    'PA': 'Pará', 'PB': 'Paraíba', 'PE': 'Pernambuco', 'PI': 'Piauí', 'PR': 'Paraná',\n",
        "    'RJ': 'Rio de Janeiro', 'RN': 'Rio Grande do Norte', 'RO': 'Rondônia', 'RR': 'Roraima','RS': 'Rio Grande do Sul',\n",
        "    'SC': 'Santa Catarina', 'SE': 'Sergipe', 'SP': 'São Paulo', 'TO': 'Tocantins'\n",
        "}\n",
        "# Criando a nova coluna com os nomes completos das UFs\n",
        "distritos['NOME_UF'] = distritos['SIGLA_UF'].map(uf_dict)"
      ]
    },
    {
      "cell_type": "code",
      "execution_count": null,
      "metadata": {},
      "outputs": [
        {
          "ename": "",
          "evalue": "",
          "output_type": "error",
          "traceback": [
            "\u001b[1;31mRunning cells with 'Python 3.10.6' requires the ipykernel package.\n",
            "\u001b[1;31mRun the following command to install 'ipykernel' into the Python environment. \n",
            "\u001b[1;31mCommand: 'c:/Users/Jonatas/AppData/Local/Programs/Python/Python310/python.exe -m pip install ipykernel -U --user --force-reinstall'"
          ]
        }
      ],
      "source": [
        "# Realiza o join espacial\n",
        "join_shapefile = gpd.sjoin(df_geo, distritos, how=\"inner\", op='intersects')\n",
        "join_shapefile.head()"
      ]
    },
    {
      "cell_type": "code",
      "execution_count": null,
      "metadata": {},
      "outputs": [
        {
          "ename": "",
          "evalue": "",
          "output_type": "error",
          "traceback": [
            "\u001b[1;31mRunning cells with 'Python 3.10.6' requires the ipykernel package.\n",
            "\u001b[1;31mRun the following command to install 'ipykernel' into the Python environment. \n",
            "\u001b[1;31mCommand: 'c:/Users/Jonatas/AppData/Local/Programs/Python/Python310/python.exe -m pip install ipykernel -U --user --force-reinstall'"
          ]
        }
      ],
      "source": [
        "# Supondo que join_sp é o DataFrame com seus dados\n",
        "# Calcular a média de avg_d_kbps por município\n",
        "media_velocidade_download_sp = join_shapefile.groupby('NM_MUN')['avg_d_kbps'].mean()\n",
        "\n",
        "# Resetar o índice para transformar em DataFrame\n",
        "media_velocidade_download_sp = media_velocidade_download_sp.reset_index()\n",
        "\n",
        "# Converter a média de kbps para Mbps diretamente na nova coluna\n",
        "media_velocidade_download_sp['avg_d_mbps'] = media_velocidade_download_sp['avg_d_kbps'] / 1000\n",
        "print(media_velocidade_download_sp)\n",
        "# Nome do arquivo Excel\n",
        "#nome_arquivo_excel = \"media_velocidade_por_municipio.xlsx\"\n",
        "#media_velocidade_sp.to_excel(nome_arquivo_excel, index=False)"
      ]
    },
    {
      "cell_type": "code",
      "execution_count": null,
      "metadata": {},
      "outputs": [
        {
          "ename": "",
          "evalue": "",
          "output_type": "error",
          "traceback": [
            "\u001b[1;31mRunning cells with 'Python 3.10.6' requires the ipykernel package.\n",
            "\u001b[1;31mRun the following command to install 'ipykernel' into the Python environment. \n",
            "\u001b[1;31mCommand: 'c:/Users/Jonatas/AppData/Local/Programs/Python/Python310/python.exe -m pip install ipykernel -U --user --force-reinstall'"
          ]
        }
      ],
      "source": [
        "media_velocidade_upload = join_shapefile.groupby('NM_MUN')['avg_u_kbps'].mean()\n",
        "\n",
        "# Resetar o índice para transformar em DataFrame\n",
        "media_velocidade_upload = media_velocidade_upload.reset_index()\n",
        "\n",
        "# Converter a média de kbps para Mbps diretamente na nova coluna\n",
        "media_velocidade_upload['avg_u_mbps'] = media_velocidade_upload['avg_u_kbps'] / 1000\n",
        "print(media_velocidade_upload)"
      ]
    },
    {
      "cell_type": "code",
      "execution_count": null,
      "metadata": {},
      "outputs": [
        {
          "ename": "",
          "evalue": "",
          "output_type": "error",
          "traceback": [
            "\u001b[1;31mRunning cells with 'Python 3.10.6' requires the ipykernel package.\n",
            "\u001b[1;31mRun the following command to install 'ipykernel' into the Python environment. \n",
            "\u001b[1;31mCommand: 'c:/Users/Jonatas/AppData/Local/Programs/Python/Python310/python.exe -m pip install ipykernel -U --user --force-reinstall'"
          ]
        }
      ],
      "source": [
        "# Merge para associar cada município à sua média de velocidade de internet\n",
        "map_data = distritos.merge(media_velocidade_download_sp, left_on='NM_MUN', right_on='NM_MUN')\n",
        "map_data2 = distritos.merge(media_velocidade_upload, left_on='NM_MUN', right_on='NM_MUN')\n",
        "# Exibir dataframe resultante\n",
        "print(map_data.head())\n",
        "#map_data.to_excel('teste.xlsx')"
      ]
    },
    {
      "cell_type": "code",
      "execution_count": null,
      "metadata": {},
      "outputs": [
        {
          "ename": "",
          "evalue": "",
          "output_type": "error",
          "traceback": [
            "\u001b[1;31mRunning cells with 'Python 3.10.6' requires the ipykernel package.\n",
            "\u001b[1;31mRun the following command to install 'ipykernel' into the Python environment. \n",
            "\u001b[1;31mCommand: 'c:/Users/Jonatas/AppData/Local/Programs/Python/Python310/python.exe -m pip install ipykernel -U --user --force-reinstall'"
          ]
        }
      ],
      "source": [
        "gdf = gpd.GeoDataFrame(map_data, geometry='geometry')\n",
        "gdf = gdf.set_geometry('geometry')\n",
        "# Agrupar por estado (SIGLA_UF) e realizar as agregações\n",
        "grouped = gdf.dissolve(by='NOME_UF', aggfunc={\n",
        "    'AREA_KM2': 'sum',\n",
        "    'avg_d_kbps': 'mean',\n",
        "    'avg_d_mbps': 'mean'\n",
        "})\n",
        "grouped = grouped.reset_index()\n",
        "print(grouped.head())\n",
        "\n"
      ]
    },
    {
      "cell_type": "code",
      "execution_count": null,
      "metadata": {},
      "outputs": [
        {
          "ename": "",
          "evalue": "",
          "output_type": "error",
          "traceback": [
            "\u001b[1;31mRunning cells with 'Python 3.10.6' requires the ipykernel package.\n",
            "\u001b[1;31mRun the following command to install 'ipykernel' into the Python environment. \n",
            "\u001b[1;31mCommand: 'c:/Users/Jonatas/AppData/Local/Programs/Python/Python310/python.exe -m pip install ipykernel -U --user --force-reinstall'"
          ]
        }
      ],
      "source": [
        "df_idh = pd.read_excel('Atlas - IDH Brasileiro.xlsx')\n",
        "grouped = pd.merge(grouped, df_idh, left_on='NOME_UF', right_on='Territorialidade', how='left')"
      ]
    },
    {
      "cell_type": "code",
      "execution_count": null,
      "metadata": {},
      "outputs": [
        {
          "ename": "",
          "evalue": "",
          "output_type": "error",
          "traceback": [
            "\u001b[1;31mRunning cells with 'Python 3.10.6' requires the ipykernel package.\n",
            "\u001b[1;31mRun the following command to install 'ipykernel' into the Python environment. \n",
            "\u001b[1;31mCommand: 'c:/Users/Jonatas/AppData/Local/Programs/Python/Python310/python.exe -m pip install ipykernel -U --user --force-reinstall'"
          ]
        }
      ],
      "source": [
        "# Criar um mapa base\n",
        "m = folium.Map(location=[-15.788497, -47.879873], zoom_start=4)\n",
        "\n",
        "# Definir a paleta de cores\n",
        "colormap = linear.YlOrRd_09.scale(grouped['avg_d_mbps'].min(), grouped['avg_d_mbps'].max())\n",
        "colormap.caption = 'Velocidade Média de Download (Mbps)'\n",
        "\n",
        "# Adicionar os polígonos dos estados ao mapa\n",
        "choropleth = folium.Choropleth(\n",
        "    geo_data=grouped,\n",
        "    name='choropleth',\n",
        "    data=grouped,\n",
        "    columns=['NOME_UF', 'avg_d_mbps'],\n",
        "    key_on='feature.properties.NOME_UF',\n",
        "    fill_color='YlOrRd',\n",
        "    fill_opacity=0.7,\n",
        "    line_opacity=0,\n",
        "    legend_name='Velocidade Média de Internet (Mbps)'\n",
        ").add_to(m)\n",
        "\n",
        "# Agora, adicionaremos os contornos com o GeoJson, definindo explicitamente a cor da linha\n",
        "for _, row in grouped.iterrows():\n",
        "    folium.GeoJson(\n",
        "        row['geometry'],\n",
        "        style_function=lambda x: {\n",
        "            'fillColor': 'transparent',\n",
        "            'color': 'black',\n",
        "            'weight': 1\n",
        "        },\n",
        "        name=row['NOME_UF'],\n",
        "        tooltip=folium.Tooltip(f\"{row['NOME_UF']}: {row['avg_d_mbps']} Mbps\")\n",
        "    ).add_to(m)\n",
        "\n",
        "# Adicionar controle de camadas\n",
        "folium.LayerControl().add_to(m)\n",
        "\n",
        "# Adicionar a legenda da paleta de cores\n",
        "#m.add_child(colormap)\n",
        "\n",
        "# Salvar o mapa em um arquivo HTML\n",
        "m.save('mapa_velocidade_download.html')\n",
        "\n",
        "# Exibir o mapa\n",
        "m\n"
      ]
    },
    {
      "cell_type": "code",
      "execution_count": null,
      "metadata": {},
      "outputs": [
        {
          "ename": "",
          "evalue": "",
          "output_type": "error",
          "traceback": [
            "\u001b[1;31mRunning cells with 'Python 3.10.6' requires the ipykernel package.\n",
            "\u001b[1;31mRun the following command to install 'ipykernel' into the Python environment. \n",
            "\u001b[1;31mCommand: 'c:/Users/Jonatas/AppData/Local/Programs/Python/Python310/python.exe -m pip install ipykernel -U --user --force-reinstall'"
          ]
        }
      ],
      "source": [
        "# Criar um mapa base\n",
        "m = folium.Map(location=[-15.788497, -47.879873], zoom_start=4)\n",
        "\n",
        "# Definir a paleta de cores\n",
        "colormap = linear.YlOrRd_09.scale(grouped['IDHM'].min(), grouped['IDHM'].max())\n",
        "colormap.caption = 'Distribuição do IDH Brasileiro'\n",
        "\n",
        "# Adicionar os polígonos dos estados ao mapa\n",
        "choropleth = folium.Choropleth(\n",
        "    geo_data=grouped,\n",
        "    name='choropleth',\n",
        "    data=grouped,\n",
        "    columns=['NOME_UF', 'IDHM'],\n",
        "    key_on='feature.properties.NOME_UF',\n",
        "    fill_color='RdBu',\n",
        "    fill_opacity=0.7,\n",
        "    line_opacity=0,\n",
        "    legend_name='Velocidade Média de Internet (Mbps)'\n",
        ").add_to(m)\n",
        "\n",
        "# Agora, adicionaremos os contornos com o GeoJson, definindo explicitamente a cor da linha\n",
        "for _, row in grouped.iterrows():\n",
        "    folium.GeoJson(\n",
        "        row['geometry'],\n",
        "        style_function=lambda x: {\n",
        "            'fillColor': 'transparent',\n",
        "            'color': 'black',\n",
        "            'weight': 1\n",
        "        },\n",
        "        name=row['NOME_UF'],\n",
        "        tooltip=folium.Tooltip(f\"{row['NOME_UF']}: {row['IDHM']} Indice IDHM\")\n",
        "    ).add_to(m)\n",
        "\n",
        "# Adicionar controle de camadas\n",
        "folium.LayerControl().add_to(m)\n",
        "\n",
        "# Adicionar a legenda da paleta de cores\n",
        "#m.add_child(colormap)\n",
        "\n",
        "# Salvar o mapa em um arquivo HTML\n",
        "m.save('mapa_velocidade_IDH.html')\n",
        "\n",
        "# Exibir o mapa\n",
        "m"
      ]
    },
    {
      "cell_type": "code",
      "execution_count": null,
      "metadata": {},
      "outputs": [
        {
          "ename": "",
          "evalue": "",
          "output_type": "error",
          "traceback": [
            "\u001b[1;31mRunning cells with 'Python 3.10.6' requires the ipykernel package.\n",
            "\u001b[1;31mRun the following command to install 'ipykernel' into the Python environment. \n",
            "\u001b[1;31mCommand: 'c:/Users/Jonatas/AppData/Local/Programs/Python/Python310/python.exe -m pip install ipykernel -U --user --force-reinstall'"
          ]
        }
      ],
      "source": [
        "gdf2 = gpd.GeoDataFrame(map_data2, geometry='geometry')\n",
        "gdf2 = gdf2.set_geometry('geometry')\n",
        "# Agrupar por estado (SIGLA_UF) e realizar as agregações\n",
        "grouped2 = gdf2.dissolve(by='NOME_UF', aggfunc={\n",
        "    'AREA_KM2': 'sum',\n",
        "    'avg_u_mbps': 'mean'\n",
        "})\n",
        "grouped2 = grouped2.reset_index()\n",
        "print(grouped2.head())\n",
        "\n",
        "# Criar um mapa base\n",
        "m = folium.Map(location=[-15.788497, -47.879873], zoom_start=4)\n",
        "\n",
        "# Definir a paleta de cores\n",
        "colormap = linear.YlOrRd_09.scale(grouped2['avg_u_mbps'].min(), grouped2['avg_u_mbps'].max())\n",
        "colormap.caption = 'Velocidade Média de Upload (Mbps)'\n",
        "\n",
        "# Adicionar os polígonos dos estados ao mapa\n",
        "choropleth = folium.Choropleth(\n",
        "    geo_data=grouped2,\n",
        "    name='choropleth',\n",
        "    data=grouped2,\n",
        "    columns=['NOME_UF', 'avg_u_mbps'],\n",
        "    key_on='feature.properties.NOME_UF',\n",
        "    fill_color='YlOrRd',\n",
        "    fill_opacity=0.7,\n",
        "    line_opacity=0,\n",
        "    legend_name='Velocidade Média de Upload (Mbps)'\n",
        ").add_to(m)\n",
        "\n",
        "# Agora, adicionaremos os contornos com o GeoJson, definindo explicitamente a cor da linha\n",
        "for _, row in grouped2.iterrows():\n",
        "    folium.GeoJson(\n",
        "        row['geometry'],\n",
        "        style_function=lambda x: {\n",
        "            'fillColor': 'transparent',\n",
        "            'color': 'black',\n",
        "            'weight': 1\n",
        "        },\n",
        "        name=row['NOME_UF'],\n",
        "        tooltip=folium.Tooltip(f\"{row['NOME_UF']}: {row['avg_u_mbps']} Mbps\")\n",
        "    ).add_to(m)\n",
        "\n",
        "# Adicionar controle de camadas\n",
        "folium.LayerControl().add_to(m)\n",
        "\n",
        "# Adicionar a legenda da paleta de cores\n",
        "#m.add_child(colormap)\n",
        "\n",
        "# Salvar o mapa em um arquivo HTML\n",
        "m.save('mapa_velocidade_upload.html')\n",
        "\n",
        "# Exibir o mapa\n",
        "m\n"
      ]
    }
  ],
  "metadata": {
    "colab": {
      "provenance": []
    },
    "kernelspec": {
      "display_name": "Python 3",
      "name": "python3"
    },
    "language_info": {
      "codemirror_mode": {
        "name": "ipython",
        "version": 3
      },
      "file_extension": ".py",
      "mimetype": "text/x-python",
      "name": "python",
      "nbconvert_exporter": "python",
      "pygments_lexer": "ipython3",
      "version": "3.12.2"
    }
  },
  "nbformat": 4,
  "nbformat_minor": 0
}
