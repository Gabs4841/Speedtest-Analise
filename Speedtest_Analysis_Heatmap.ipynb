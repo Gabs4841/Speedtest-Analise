{
  "cells": [
    {
      "cell_type": "code",
      "execution_count": null,
      "metadata": {
        "id": "KlsIwb9T_e_g"
      },
      "outputs": [],
      "source": [
        "#Começa aqui após ter os arquivos\n",
        "import pandas as pd\n",
        "import geopandas as gpd\n",
        "import folium\n",
        "from shapely.wkt import loads\n",
        "from shapely import wkt\n",
        "\n",
        "#Shapefile baixado em: https://www.ibge.gov.br/geociencias/organizacao-do-territorio/malhas-territoriais/15774-malhas.html\n",
        "'''\n",
        "file_names = [\"2023-Q1.parquet\", \"2023-Q2.parquet\", \"2023-Q3.parquet\", \"2023-Q4.parquet\"]\n",
        "def load_and_process_data(file_names):\n",
        "    dfs = []\n",
        "    for file_name in file_names:\n",
        "        print(f'Carregando dados do arquivo: {file_name}')\n",
        "        df = pd.read_parquet(file_name)\n",
        "        df['geometry'] = df['tile'].apply(wkt.loads)\n",
        "        df['quarter'] = file_name.split('-')[1]  # Assumindo que o nome do arquivo contém o trimestre\n",
        "        dfs.append(df)\n",
        "    \n",
        "    combined_df = pd.concat(dfs, ignore_index=True, axis=0)\n",
        "    return combined_df\n",
        "\n",
        "df = load_and_process_data(file_names)\n",
        "print(df)\n",
        "Ficou muito pesado\n",
        "'''\n",
        "file_name = \"2023-Q1.parquet\"\n",
        "df = pd.read_parquet(file_name)\n",
        "\n",
        "\n",
        "df.rename(columns={'tile': 'geometry'}, inplace=True)\n",
        "\n",
        "df['geometry'] = df['geometry'].apply(wkt.loads)\n",
        "\n",
        "df_geo = gpd.GeoDataFrame(df, geometry='geometry')\n",
        "df_geo.crs = \"EPSG:4326\"\n",
        "\n",
        "df_geo.head()"
      ]
    },
    {
      "cell_type": "code",
      "execution_count": null,
      "metadata": {},
      "outputs": [],
      "source": [
        "#shapefile_sp = gpd.read_file('SP_Municipios_2022.zip') \n",
        "shapefile_sp = gpd.read_file('BR_Municipios_2022.zip') #Tentar rodar com brasil\n",
        "distritos = shapefile_sp.to_crs(4326)\n",
        "distritos.head()\n",
        "\n",
        "nome_arquivo_excel = \"distritos.xlsx\"\n",
        "distritos.to_excel(nome_arquivo_excel, index=False)\n",
        "#print(f\"Arquivo '{nome_arquivo_excel}' salvo com sucesso!\")"
      ]
    },
    {
      "cell_type": "code",
      "execution_count": null,
      "metadata": {},
      "outputs": [],
      "source": [
        "# Realiza o join espacial\n",
        "join_sp = gpd.sjoin(df_geo, distritos, how=\"inner\", op='intersects')\n",
        "join_sp.head()\n",
        "# O resultado 'join_sp' conterá as velocidades de internet com a informação dos municípios de São Paulo"
      ]
    },
    {
      "cell_type": "code",
      "execution_count": null,
      "metadata": {},
      "outputs": [],
      "source": [
        "# Supondo que join_sp é o DataFrame com seus dados\n",
        "# Calcular a média de avg_d_kbps por município\n",
        "media_velocidade_sp = join_sp.groupby('NM_MUN')['avg_d_kbps'].mean()\n",
        "\n",
        "# Resetar o índice para transformar em DataFrame\n",
        "media_velocidade_sp = media_velocidade_sp.reset_index()\n",
        "\n",
        "# Converter a média de kbps para Mbps diretamente na nova coluna\n",
        "media_velocidade_sp['avg_d_mbps'] = media_velocidade_sp['avg_d_kbps'] / 1000\n",
        "\n",
        "# Exibir a média em Mbps\n",
        "print(media_velocidade_sp)\n",
        "\n",
        "# Nome do arquivo Excel\n",
        "nome_arquivo_excel = \"media_velocidade_por_municipio.xlsx\"\n",
        "media_velocidade_sp.to_excel(nome_arquivo_excel, index=False)"
      ]
    },
    {
      "cell_type": "code",
      "execution_count": null,
      "metadata": {},
      "outputs": [],
      "source": [
        "# Merge para associar cada município à sua média de velocidade de internet\n",
        "map_data = distritos.merge(media_velocidade_sp, left_on='NM_MUN', right_on='NM_MUN')"
      ]
    },
    {
      "cell_type": "code",
      "execution_count": null,
      "metadata": {},
      "outputs": [],
      "source": [
        "# Cria um mapa centrado em uma localização de São Paulo\n",
        "m = folium.Map(location=[-23.5505, -46.6333], zoom_start=7)\n",
        "\n",
        "# Adiciona a camada Choropleth\n",
        "folium.Choropleth(\n",
        "    geo_data=map_data.__geo_interface__,  # Usa a interface GeoJSON dos dados\n",
        "    name='choropleth',\n",
        "    data=map_data,\n",
        "    columns=['NM_MUN', 'avg_d_mbps'],  # Especifica as colunas para o join e para determinar a cor\n",
        "    key_on='feature.properties.NM_MUN',  # A chave para fazer o join com os dados GeoJSON\n",
        "    fill_color='YlOrRd',  # Esquema de cores\n",
        "    fill_opacity=0.7,\n",
        "    line_opacity=0.2,\n",
        "    legend_name='Velocidade Média de Internet (Mbps)'\n",
        ").add_to(m)\n",
        "\n",
        "# Adiciona um controle de camadas\n",
        "folium.LayerControl().add_to(m)\n",
        "\n",
        "m.save('complete_brazil_heatmap.html')\n",
        "#m.save('sao_paulo_heatmap.html')\n",
        "\n",
        "# Mostra o mapa\n",
        "m"
      ]
    }
  ],
  "metadata": {
    "colab": {
      "provenance": []
    },
    "kernelspec": {
      "display_name": "Python 3",
      "name": "python3"
    },
    "language_info": {
      "codemirror_mode": {
        "name": "ipython",
        "version": 3
      },
      "file_extension": ".py",
      "mimetype": "text/x-python",
      "name": "python",
      "nbconvert_exporter": "python",
      "pygments_lexer": "ipython3",
      "version": "3.12.2"
    }
  },
  "nbformat": 4,
  "nbformat_minor": 0
}
