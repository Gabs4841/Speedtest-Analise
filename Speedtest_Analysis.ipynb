{
  "cells": [
    {
      "cell_type": "code",
      "execution_count": null,
      "metadata": {},
      "outputs": [],
      "source": [
        "import pandas as pd\n",
        "import geopandas as gpd\n",
        "from shapely.wkt import loads\n",
        "from shapely import wkt\n",
        "import folium\n",
        "from branca.colormap import linear\n",
        "import matplotlib.pyplot as plt\n",
        "import seaborn as sns\n",
        "from matplotlib.ticker import FixedLocator"
      ]
    },
    {
      "cell_type": "code",
      "execution_count": null,
      "metadata": {
        "id": "KlsIwb9T_e_g"
      },
      "outputs": [],
      "source": [
        "#Shapefile baixado em: https://www.ibge.gov.br/geociencias/organizacao-do-territorio/malhas-territoriais/15774-malhas.html\n",
        "\n",
        "file_name = \"2021-Q04.parquet\"\n",
        "df = pd.read_parquet(file_name)\n",
        "\n",
        "\n",
        "df.rename(columns={'tile': 'geometry'}, inplace=True)\n",
        "\n",
        "df['geometry'] = df['geometry'].apply(wkt.loads)\n",
        "\n",
        "df_geo = gpd.GeoDataFrame(df, geometry='geometry')\n",
        "df_geo.crs = \"EPSG:4326\"\n",
        "\n",
        "df_geo.head()"
      ]
    },
    {
      "cell_type": "code",
      "execution_count": null,
      "metadata": {},
      "outputs": [],
      "source": [
        "#shapefile_sp = gpd.read_file('SP_Municipios_2022.zip') \n",
        "shapefile_br = gpd.read_file('BR_Municipios_2022.zip') #Tentar rodar com brasil\n",
        "distritos = shapefile_br.to_crs(4326)\n",
        "distritos.head()\n",
        "\n",
        "#nome_arquivo_excel = \"distritos.xlsx\"\n",
        "#distritos.to_excel(nome_arquivo_excel, index=False)\n",
        "#print(f\"Arquivo '{nome_arquivo_excel}' salvo com sucesso!\")"
      ]
    },
    {
      "cell_type": "code",
      "execution_count": null,
      "metadata": {},
      "outputs": [],
      "source": [
        "# Realiza o join espacial\n",
        "join_distritos = gpd.sjoin(df_geo, distritos, how=\"inner\", op='intersects')\n",
        "\n",
        "join_distritos.head()"
      ]
    },
    {
      "cell_type": "code",
      "execution_count": null,
      "metadata": {},
      "outputs": [],
      "source": [
        "join_distritos['avg_d_mbps'] = join_distritos['avg_d_kbps'] / 1000\n",
        "join_distritos['avg_u_mbps'] = join_distritos['avg_u_kbps'] / 1000"
      ]
    },
    {
      "cell_type": "code",
      "execution_count": null,
      "metadata": {},
      "outputs": [],
      "source": [
        "# Dicionário de correspondência entre siglas e nomes completos\n",
        "uf_dict = {\n",
        "    'AC': 'Acre', 'AL': 'Alagoas', 'AM': 'Amazonas', 'AP': 'Amapá', 'BA': 'Bahia',\n",
        "    'CE': 'Ceará', 'DF': 'Distrito Federal', 'ES': 'Espírito Santo', 'GO': 'Goiás',\n",
        "    'MA': 'Maranhão', 'MG': 'Minas Gerais', 'MS': 'Mato Grosso do Sul', 'MT': 'Mato Grosso',\n",
        "    'PA': 'Pará', 'PB': 'Paraíba', 'PE': 'Pernambuco', 'PI': 'Piauí', 'PR': 'Paraná',\n",
        "    'RJ': 'Rio de Janeiro', 'RN': 'Rio Grande do Norte', 'RO': 'Rondônia', 'RR': 'Roraima','RS': 'Rio Grande do Sul',\n",
        "    'SC': 'Santa Catarina', 'SE': 'Sergipe', 'SP': 'São Paulo', 'TO': 'Tocantins'\n",
        "}\n",
        "# Criando a nova coluna com os nomes completos das UFs\n",
        "join_distritos['NOME_UF'] = join_distritos['SIGLA_UF'].map(uf_dict)"
      ]
    },
    {
      "cell_type": "code",
      "execution_count": null,
      "metadata": {},
      "outputs": [],
      "source": [
        "df_idh = pd.read_excel('Atlas - IDH Brasileiro.xlsx')\n",
        "#df_idh['Codigo_Municipio'] = df_idh['Codigo_Municipio'].astype(str)"
      ]
    },
    {
      "cell_type": "code",
      "execution_count": null,
      "metadata": {},
      "outputs": [],
      "source": [
        "print(df_idh.head())"
      ]
    },
    {
      "cell_type": "code",
      "execution_count": null,
      "metadata": {},
      "outputs": [],
      "source": [
        "# Realiza o join dos DataFrames\n",
        "join_all = pd.merge(join_distritos, df_idh, left_on='NOME_UF', right_on='Territorialidade', how='left')\n",
        "join_all = gpd.GeoDataFrame(join_all, geometry='geometry')\n",
        "join_all = join_all.set_geometry('geometry')\n",
        "join_all.info()\n"
      ]
    },
    {
      "cell_type": "code",
      "execution_count": null,
      "metadata": {},
      "outputs": [],
      "source": [
        "print(join_all.columns)  # This will list all the columns in the DataFrame\n"
      ]
    },
    {
      "cell_type": "code",
      "execution_count": null,
      "metadata": {},
      "outputs": [],
      "source": [
        "df_completo = join_all.dissolve(by='NOME_UF')\n"
      ]
    },
    {
      "cell_type": "code",
      "execution_count": null,
      "metadata": {},
      "outputs": [],
      "source": [
        "gdf = gpd.GeoDataFrame(join_all, geometry='geometry')\n",
        "gdf = gdf.set_geometry('geometry')\n",
        "df_completo = gdf.dissolve(by='NOME_UF', aggfunc={\n",
        "    'AREA_KM2': 'max',\n",
        "    'avg_d_mbps': 'mean',\n",
        "    'avg_u_mbps': 'mean',\n",
        "    'devices': 'sum',\n",
        "    'tests': 'sum',\n",
        "    'Posição IDHM': 'max',\n",
        "    'IDHM': 'max',\n",
        "    'Posição IDHM Renda': 'max',\n",
        "    'IDHM Renda': 'max',\n",
        "    'Posição IDHM Educação': 'max',\n",
        "    'IDHM Educação': 'max',\n",
        "    'Posição IDHM Longevidade': 'max',\n",
        "    'IDHM Longevidade': 'max'\n",
        "})\n",
        "\n"
      ]
    },
    {
      "cell_type": "code",
      "execution_count": null,
      "metadata": {},
      "outputs": [],
      "source": [
        "df_completo.reset_index(inplace=True)\n",
        "\n",
        "#df_completo['geometry'] = df_completo.buffer(0)\n",
        "\n",
        "print(df_completo.geom_type.unique()) # ['MultiPolygon'] esperado\n",
        "df_completo.info()"
      ]
    },
    {
      "cell_type": "code",
      "execution_count": null,
      "metadata": {},
      "outputs": [],
      "source": [
        "# Renomeia as colunas para nomes mais amigáveis\n",
        "df_completo = df_completo.rename(columns={\n",
        "    'NM_MUN': 'Município',\n",
        "    'SIGLA_UF': 'UF',\n",
        "    'AREA_KM2': 'Área (km²)',\n",
        "    'avg_d_mbps': 'Velocidade Média Download (Mbps)',\n",
        "    'avg_u_mbps': 'Velocidade Média Upload (Mbps)',\n",
        "    'devices': 'Número de Dispositivos',\n",
        "    'tests': 'Número de Testes',\n",
        "})\n",
        "\n",
        "print(df_completo.geom_type.unique())# ['MultiPolygon'] esperado\n",
        "df_completo.info()"
      ]
    },
    {
      "cell_type": "code",
      "execution_count": null,
      "metadata": {},
      "outputs": [],
      "source": [
        "nome_arquivo_excel_final = \"dados_final_agregados.xlsx\"\n",
        "df_completo.to_excel(nome_arquivo_excel_final, index=False)\n",
        "print(f\"Arquivo '{nome_arquivo_excel_final}' salvo com sucesso!\")"
      ]
    },
    {
      "cell_type": "code",
      "execution_count": null,
      "metadata": {},
      "outputs": [],
      "source": [
        "def plot(df, dfxlabel, dfylabel, dftitle, limit):\n",
        "    # Ordena os dados e limita ao número de elementos especificado\n",
        "    df = df.nlargest(limit, dfylabel)\n",
        "    \n",
        "    x = df[dfxlabel].values\n",
        "    y = df[dfylabel].values\n",
        "    \n",
        "    plt.figure(figsize=(50, 7))\n",
        "    sns.set_style('darkgrid')\n",
        "    plt.xlabel(\"\", fontsize=22)\n",
        "    plt.ylabel(\"\", fontsize=22)\n",
        "    plt.title(dftitle, fontsize=34)\n",
        "    plt.ylim(min(y) - 5, max(y) + 5)\n",
        "    plt.xticks(fontsize=22)\n",
        "    plt.yticks(fontsize=22)\n",
        "\n",
        "    # Create the barplot and get the plot object\n",
        "    barplot = sns.barplot(x=x, y=y, color='MediumSeaGreen')\n",
        "\n",
        "    # Get the x-axis labels from the plot object\n",
        "    x_labels = barplot.get_xticklabels()\n",
        "\n",
        "    # Set the x-ticks using FixedLocator\n",
        "    barplot.xaxis.set_major_locator(FixedLocator(range(len(x_labels))))\n",
        "\n",
        "    # Show the values for each bar\n",
        "    for index, value in enumerate(y):\n",
        "        plt.text(index, value - 0.05, str(round(value, 2)), color='black', ha=\"center\", fontsize=22)  # Ajusta o tamanho do texto dos valores\n",
        "\n",
        "\n",
        "    # Set the x-axis labels on the plot object\n",
        "    lenght = 30\n",
        "    barplot.set_xticklabels([label.get_text()[:lenght] + '...' if len(label.get_text()) > lenght else label.get_text() for label in x_labels], fontsize=22)  # Ajusta o tamanho do texto das unidades federativas\n",
        "    \n",
        "    plt.show()"
      ]
    },
    {
      "cell_type": "code",
      "execution_count": null,
      "metadata": {},
      "outputs": [],
      "source": [
        "plot(df_completo, 'NOME_UF', 'IDHM', 'Top 10 IDHM', 10)"
      ]
    },
    {
      "cell_type": "code",
      "execution_count": null,
      "metadata": {},
      "outputs": [],
      "source": [
        "# Top 10 municípios por número de dispositivos (Número de Dispositivos)\n",
        "plot(df_completo, 'NOME_UF', 'Número de Dispositivos', 'Top 10 UF por Número de Dispositivos', 10)"
      ]
    },
    {
      "cell_type": "code",
      "execution_count": null,
      "metadata": {},
      "outputs": [],
      "source": [
        "import folium\n",
        "\n",
        "m = folium.Map(location=[-15.788497, -47.879873], zoom_start=4)\n",
        "\n",
        "choropleth = folium.Choropleth(\n",
        "    geo_data=df_completo.to_json(),  # Certifique-se de usar a conversão correta para JSON\n",
        "    name='choropleth',\n",
        "    data=df_completo,\n",
        "    columns=['NOME_UF', 'Velocidade Média Download (Mbps)'],\n",
        "    key_on='feature.properties.NOME_UF',  # Ajuste baseado em como os dados estão estruturados no GeoJSON\n",
        "    fill_color='YlOrRd',\n",
        "    fill_opacity=0.7,\n",
        "    line_opacity=0.5,\n",
        "    legend_name='Velocidade Média de Internet (Mbps)'\n",
        ").add_to(m)\n",
        "\n",
        "#m.save('mapa_brasil.html')\n",
        "\n",
        "m"
      ]
    },
    {
      "cell_type": "code",
      "execution_count": null,
      "metadata": {},
      "outputs": [],
      "source": [
        "import folium\n",
        "import geopandas as gpd\n",
        "\n",
        "# Supondo que df_completo já foi definido e é um GeoDataFrame com a coluna 'geometry' como polígonos dos estados\n",
        "gdf = df_completo\n",
        "\n",
        "# Iniciando um mapa Folium centrado no Brasil\n",
        "m = folium.Map(location=[-14.2350, -51.9253], zoom_start=4)\n",
        "\n",
        "# Função para aplicar a cor de acordo com o valor do IDHM\n",
        "def color_producer(idhm):\n",
        "    if idhm < 0.6:\n",
        "        return 'red'\n",
        "    elif idhm < 0.7:\n",
        "        return 'orange'\n",
        "    else:\n",
        "        return 'green'\n",
        "\n",
        "# Adicionando os polígonos ao mapa com a cor baseada no IDHM\n",
        "for _, r in gdf.iterrows():\n",
        "    folium.GeoJson(\n",
        "        data=r['geometry'],\n",
        "        style_function=lambda x, color=color_producer(r['IDHM']): {\n",
        "            'fillColor': color,\n",
        "            'color': 'black',\n",
        "            'weight': 1,\n",
        "            'fillOpacity': 0.6\n",
        "        }\n",
        "    ).add_to(m).add_child(folium.Popup(f\"Estado: {r['NOME_UF']}<br>\"\n",
        "                                       f\"Velocidade Média de Download: {r['Velocidade Média Download (Mbps)']} Mbps<br>\"\n",
        "                                       f\"IDHM: {r['IDHM']}<br>\"\n",
        "                                       f\"Número de Dispositivos: {r['Número de Dispositivos']}<br>\"\n",
        "                                       f\"Número de Testes: {r['Número de Testes']}\"))\n",
        "\n",
        "# Salvando o mapa em um arquivo HTML\n",
        "#m.save('mapa_dos_estados.html')\n",
        "\n",
        "# Para visualizar o mapa no Jupyter Notebook, se estiver usando um:\n",
        "m\n"
      ]
    }
  ],
  "metadata": {
    "colab": {
      "provenance": []
    },
    "kernelspec": {
      "display_name": "Python 3",
      "name": "python3"
    },
    "language_info": {
      "codemirror_mode": {
        "name": "ipython",
        "version": 3
      },
      "file_extension": ".py",
      "mimetype": "text/x-python",
      "name": "python",
      "nbconvert_exporter": "python",
      "pygments_lexer": "ipython3",
      "version": "3.12.2"
    }
  },
  "nbformat": 4,
  "nbformat_minor": 0
}
